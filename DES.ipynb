{
 "cells": [
  {
   "cell_type": "code",
   "execution_count": 1,
   "metadata": {},
   "outputs": [],
   "source": [
    "import pandas as pd"
   ]
  },
  {
   "cell_type": "code",
   "execution_count": 2,
   "metadata": {},
   "outputs": [],
   "source": [
    "KEY = \"4355262724562343\"\n",
    "\n",
    "\n",
    "# hex to binary\n",
    "def hex2bin(hex):\n",
    "    return bin(int(hex, 16))[2:].zfill(64)\n",
    "\n",
    "\n",
    "def str2bin(str):\n",
    "    return \"\".join(format(ord(i), \"08b\") for i in str)\n",
    "\n",
    "\n",
    "KEY = hex2bin(KEY)"
   ]
  },
  {
   "cell_type": "code",
   "execution_count": 3,
   "metadata": {},
   "outputs": [],
   "source": [
    "def pad_text(text):\n",
    "    padding_length = 8 - (len(text) % 8)\n",
    "    padding = chr(padding_length) * padding_length\n",
    "    return text + padding\n",
    "\n",
    "\n",
    "def split_into_blocks(text):\n",
    "    return [text[i : i + 16] for i in range(0, len(text), 16)]\n",
    "\n",
    "\n",
    "# split into left and right\n",
    "def split_plain(plaintext):\n",
    "    return plaintext[:32], plaintext[32:]"
   ]
  },
  {
   "cell_type": "code",
   "execution_count": 4,
   "metadata": {},
   "outputs": [],
   "source": [
    "# initial permutation\n",
    "def initial_permutation(text):\n",
    "    key = pd.read_csv(\"initial_permutation.txt\", header=None).to_numpy().flatten()\n",
    "    return \"\".join(text[i - 1] for i in key)\n",
    "\n",
    "\n",
    "def final_permutation(text):\n",
    "    key = pd.read_csv(\"final_permutation.txt\", header=None).to_numpy().flatten()\n",
    "    return \"\".join(text[i - 1] for i in key)"
   ]
  },
  {
   "cell_type": "code",
   "execution_count": 5,
   "metadata": {},
   "outputs": [],
   "source": [
    "# expansion p-box\n",
    "def expansion_pbox(right):\n",
    "    key = pd.read_csv(\"expansion_p_box.txt\", header=None).to_numpy().flatten()\n",
    "    return \"\".join(right[i - 1] for i in key)\n",
    "\n",
    "\n",
    "def straight_pbox(text):\n",
    "    key = pd.read_csv(\"straight_pbox.txt\", header=None).to_numpy().flatten()\n",
    "    return \"\".join(text[i - 1] for i in key)\n",
    "\n",
    "\n",
    "# compression p-box for key compression\n",
    "def compression_pbox(key):\n",
    "    key_compression = (\n",
    "        pd.read_csv(\"key_compression.txt\", header=None).to_numpy().flatten()\n",
    "    )\n",
    "    return \"\".join(key[i - 1] for i in key_compression)\n",
    "\n",
    "\n",
    "# key parity drop\n",
    "def key_parity_drop(key):\n",
    "    key_drop = pd.read_csv(\"parity_bit_drop.txt\", header=None).to_numpy().flatten()\n",
    "    return \"\".join(key[i - 1] for i in key_drop)"
   ]
  },
  {
   "cell_type": "code",
   "execution_count": 6,
   "metadata": {},
   "outputs": [],
   "source": [
    "# Key generation\n",
    "def key_generation(key):\n",
    "    # key parity drop\n",
    "    key = key_parity_drop(key)\n",
    "\n",
    "    # split key into left and right\n",
    "    left, right = key[:28], key[28:]\n",
    "\n",
    "    # shift left\n",
    "    left = left[1:] + left[:1]\n",
    "    right = right[1:] + right[:1]\n",
    "\n",
    "    # compression p-box\n",
    "    return compression_pbox(left + right)"
   ]
  },
  {
   "cell_type": "code",
   "execution_count": 7,
   "metadata": {},
   "outputs": [
    {
     "name": "stdout",
     "output_type": "stream",
     "text": [
      "110000001011010011000100100000110010001100010011 48\n"
     ]
    }
   ],
   "source": [
    "first_key = key_generation(KEY)\n",
    "print(first_key, len(first_key))"
   ]
  },
  {
   "cell_type": "code",
   "execution_count": 8,
   "metadata": {},
   "outputs": [],
   "source": [
    "# s-boxes\n",
    "import pickle\n",
    "\n",
    "\n",
    "def s_box(input_bit_string):\n",
    "    with open(\"sbox.pkl\", \"rb\") as f:\n",
    "        sbox = pickle.load(f)\n",
    "\n",
    "    bits_per_sbox = [\n",
    "        input_bit_string[i : i + 6] for i in range(0, len(input_bit_string), 6)\n",
    "    ]\n",
    "\n",
    "    output = \"\"\n",
    "    for ind, s in enumerate(sbox):\n",
    "        row = int(bits_per_sbox[ind][0] + bits_per_sbox[ind][5], 2)\n",
    "        col = int(bits_per_sbox[ind][1:5], 2)\n",
    "        out = s[row][col]\n",
    "        output += format(out, \"04b\")\n",
    "\n",
    "    return output"
   ]
  },
  {
   "cell_type": "code",
   "execution_count": 9,
   "metadata": {},
   "outputs": [],
   "source": [
    "# final permutation\n",
    "def rev_final_permutation(text):\n",
    "    final_perm = pd.read_csv(\"final_permutation.txt\", header=None).to_numpy().flatten()\n",
    "    ls = [0 for __ in range(len(final_perm))]\n",
    "\n",
    "    for ind, val in enumerate(final_perm):\n",
    "        ls[val - 1] = text[ind]\n",
    "\n",
    "    return \"\".join(ls)"
   ]
  },
  {
   "cell_type": "code",
   "execution_count": 10,
   "metadata": {},
   "outputs": [],
   "source": [
    "# xor left and all_left[i]\n",
    "def xor(l, r):\n",
    "    return \"\".join(str(int(l[i]) ^ int(r[i])) for i in range(len(l)))"
   ]
  },
  {
   "cell_type": "code",
   "execution_count": 11,
   "metadata": {},
   "outputs": [],
   "source": [
    "# from initial permutation to straight p-box\n",
    "def from_initial_permutation_to_straight_pbox(txt_paded):\n",
    "    text_in = str2bin(txt_paded)\n",
    "\n",
    "    in_per = initial_permutation(text_in)\n",
    "\n",
    "    # split into left and right\n",
    "    left, right = split_plain(in_per)\n",
    "\n",
    "    # expansion p-box\n",
    "    expansion = expansion_pbox(right)\n",
    "\n",
    "    # xor expand_right and first_key\n",
    "    xored_right_key = xor(expansion, first_key)\n",
    "\n",
    "    # s-boxes\n",
    "    after_sbox = s_box(xored_right_key)\n",
    "\n",
    "    return after_sbox, left"
   ]
  },
  {
   "cell_type": "code",
   "execution_count": 12,
   "metadata": {},
   "outputs": [],
   "source": [
    "def from_cipher_to_straight_pbox(text, left_in):\n",
    "    text_out = hex2bin(text)\n",
    "\n",
    "    # final permutation\n",
    "    after_final_perm = rev_final_permutation(text_out)\n",
    "\n",
    "    # split into left and right\n",
    "    left, right = split_plain(after_final_perm)\n",
    "\n",
    "    # xor left and all_left\n",
    "    after_straight_pbox = xor(left, left_in)\n",
    "\n",
    "    return after_straight_pbox"
   ]
  },
  {
   "cell_type": "code",
   "execution_count": 13,
   "metadata": {},
   "outputs": [
    {
     "name": "stdout",
     "output_type": "stream",
     "text": [
      "['kootahe\\x01', 'Zendegi\\x01', 'Edame\\x03\\x03\\x03', 'Dare\\x04\\x04\\x04\\x04', 'JolotYe\\x01', 'Daame\\x03\\x03\\x03', 'DaemKe\\x02\\x02', 'Mioftan\\x01', 'Toosh\\x03\\x03\\x03', 'HattaMo\\x01', 'khayeSa\\x01', '05753jj\\x01', '==j95697', '\\x08\\x08\\x08\\x08\\x08\\x08\\x08\\x08']\n",
      "['6E2F7B25307C3144', 'CF646E7170632D45', 'D070257820560746', '5574223505051150', 'DB2E393F61586144', 'D175257820560746', 'D135603D1A705746', 'D83C6F7321752A54', '413A2B666D024747', '5974216034186B44', 'EA29302D74463545', 'B1203330722B7A04', '38693B6824232D23', '1D1C0D0C4959590D']\n"
     ]
    }
   ],
   "source": [
    "input_pairs = []\n",
    "with open(\"known_plaintext.txt\", \"r\") as f:\n",
    "    data = f.read()\n",
    "    input_pairs = data.split(\", \")\n",
    "\n",
    "output_pairs = []\n",
    "with open(\"known_ciphertext.txt\", \"r\") as f:\n",
    "    data = f.read()\n",
    "    output_pairs = data.split(\", \")\n",
    "\n",
    "tmp_in, tmp_out = [], []\n",
    "for i in range(len(input_pairs)):\n",
    "    padded = pad_text(input_pairs[i])\n",
    "    if len(padded) > 8:\n",
    "        input_pairs[i] = padded[:8]\n",
    "        tmp_in.append(padded[8:])\n",
    "        tmp_str = output_pairs[i]\n",
    "        output_pairs[i] = tmp_str[:16]\n",
    "        tmp_out.append(tmp_str[16:])\n",
    "    else:\n",
    "        input_pairs[i] = padded\n",
    "\n",
    "input_pairs.extend(tmp_in)\n",
    "output_pairs.extend(tmp_out)\n",
    "\n",
    "print(input_pairs)\n",
    "print(output_pairs)"
   ]
  },
  {
   "cell_type": "code",
   "execution_count": 14,
   "metadata": {},
   "outputs": [],
   "source": [
    "def find_straight_pbox_pattern(inputt, output):\n",
    "    lst = []\n",
    "    for i in range(len(output)):\n",
    "        ls = []\n",
    "        for j in range(len(inputt)):\n",
    "            if output[i] == inputt[j]:\n",
    "                ls.append(j + 1)\n",
    "        lst.append(ls)\n",
    "    return lst"
   ]
  },
  {
   "cell_type": "code",
   "execution_count": 15,
   "metadata": {},
   "outputs": [
    {
     "name": "stdout",
     "output_type": "stream",
     "text": [
      "00111111111000100100101101111001\n",
      "11011010011111001110010110011001\n",
      "---------------------------------------\n",
      "00111111111001011010000111000000\n",
      "11000001000110011111100100011011\n",
      "---------------------------------------\n",
      "11111111101101011011001100110101\n",
      "10110101001010111111111110111001\n",
      "---------------------------------------\n",
      "11111111000110110100000010001110\n",
      "10001100110011111100001001110011\n",
      "---------------------------------------\n",
      "00111111010101011100110010101101\n",
      "10001111000111011101010010110111\n",
      "---------------------------------------\n",
      "11111111101101011011001100110101\n",
      "10110101001010111111111110111001\n",
      "---------------------------------------\n",
      "11111111110010111000111101111100\n",
      "11011011011110111110011101110101\n",
      "---------------------------------------\n",
      "11111111111001011010101111010011\n",
      "11010011101110111111101110011011\n",
      "---------------------------------------\n",
      "11111111101101010010100011100100\n",
      "11000110000010111101111100111011\n",
      "---------------------------------------\n",
      "11111111010101010111011110110101\n",
      "10110100001111111111111010110111\n",
      "---------------------------------------\n",
      "00111111010100101110111111001100\n",
      "11001111011111001110100000110111\n",
      "---------------------------------------\n",
      "11110010001000101011000010110101\n",
      "00110001010000101000111010111011\n",
      "---------------------------------------\n",
      "11111011111100100100111100001110\n",
      "00001110111111101110001100111101\n",
      "---------------------------------------\n",
      "11110010100010110011011001110101\n",
      "01110000011000111000111111110101\n",
      "---------------------------------------\n"
     ]
    }
   ],
   "source": [
    "res = []\n",
    "for input_p, output_p in zip(input_pairs, output_pairs):\n",
    "    start, left = from_initial_permutation_to_straight_pbox(input_p)\n",
    "    final = from_cipher_to_straight_pbox(output_p, left)\n",
    "    print(start)\n",
    "    print(final)\n",
    "    print(\"---------------------------------------\")\n",
    "    res.append(find_straight_pbox_pattern(start, final))"
   ]
  },
  {
   "cell_type": "code",
   "execution_count": 18,
   "metadata": {},
   "outputs": [],
   "source": [
    "with open(\"spb_temp.txt\", \"w\") as f:\n",
    "    for i in range(32):\n",
    "        d = []\n",
    "        for j in range(len(res)):\n",
    "            d.append(res[j][i])\n",
    "        f.write(\" \".join(map(str, set.intersection(*map(set, d)))))\n",
    "        f.write(\"\\n\")"
   ]
  },
  {
   "cell_type": "code",
   "execution_count": 19,
   "metadata": {},
   "outputs": [
    {
     "data": {
      "text/plain": [
       "['59346E29456A723B',\n",
       " '62354B61756D4425',\n",
       " '7871650320277C74',\n",
       " '1D1C0D0C4959590D']"
      ]
     },
     "execution_count": 19,
     "metadata": {},
     "output_type": "execute_result"
    }
   ],
   "source": [
    "cphier_test = \"59346E29456A723B62354B61756D44257871650320277C741D1C0D0C4959590D\"\n",
    "blocks = split_into_blocks(cphier_test)\n",
    "blocks"
   ]
  },
  {
   "cell_type": "code",
   "execution_count": 20,
   "metadata": {},
   "outputs": [],
   "source": [
    "def dec(txt):\n",
    "    text_in = hex2bin(txt)\n",
    "\n",
    "    in_per = initial_permutation(text_in)\n",
    "\n",
    "    # split into left and right\n",
    "    left, right = split_plain(in_per)\n",
    "\n",
    "    # expansion p-box\n",
    "    expansion = expansion_pbox(right)\n",
    "\n",
    "    # xor expand_right and first_key\n",
    "    xored_right_key = xor(expansion, first_key)\n",
    "\n",
    "    # s-boxes\n",
    "    after_sbox = s_box(xored_right_key)\n",
    "\n",
    "    spb = straight_pbox(after_sbox)\n",
    "\n",
    "    return final_permutation(xor(left, spb) + right)"
   ]
  },
  {
   "cell_type": "code",
   "execution_count": 22,
   "metadata": {},
   "outputs": [
    {
     "name": "stdout",
     "output_type": "stream",
     "text": [
      "HajiDorostZadiDametGar"
     ]
    }
   ],
   "source": [
    "for b in blocks:\n",
    "    binary_string = dec(b)\n",
    "    output_string = \"\".join(\n",
    "        chr(int(binary_string[i * 8 : i * 8 + 8], 2))\n",
    "        for i in range(len(binary_string) // 8)\n",
    "    )\n",
    "    print(output_string, end=\"\")"
   ]
  },
  {
   "cell_type": "code",
   "execution_count": null,
   "metadata": {},
   "outputs": [],
   "source": []
  }
 ],
 "metadata": {
  "kernelspec": {
   "display_name": "venv",
   "language": "python",
   "name": "python3"
  },
  "language_info": {
   "codemirror_mode": {
    "name": "ipython",
    "version": 3
   },
   "file_extension": ".py",
   "mimetype": "text/x-python",
   "name": "python",
   "nbconvert_exporter": "python",
   "pygments_lexer": "ipython3",
   "version": "3.11.3"
  },
  "orig_nbformat": 4
 },
 "nbformat": 4,
 "nbformat_minor": 2
}
